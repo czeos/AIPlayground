{
 "cells": [
  {
   "cell_type": "code",
   "execution_count": null,
   "id": "45e6a07d-6d06-49c0-a6a9-835d185582d9",
   "metadata": {},
   "outputs": [],
   "source": [
    "# siplne angent"
   ]
  },
  {
   "cell_type": "code",
   "execution_count": 94,
   "id": "d1c7b27d-02be-4e2c-8010-f166472d5c5f",
   "metadata": {},
   "outputs": [],
   "source": [
    "import os\n",
    "from pathlib import Path\n",
    "from dotenv import load_dotenv\n",
    "from pydantic import BaseModel, Field\n",
    "from typing import List"
   ]
  },
  {
   "cell_type": "code",
   "execution_count": 95,
   "id": "79a6ac2f-a352-4c02-ae12-35e0e5759fb1",
   "metadata": {},
   "outputs": [],
   "source": [
    "# bing integrtion"
   ]
  },
  {
   "cell_type": "code",
   "execution_count": 96,
   "id": "2a6a35e7-f864-4b62-8188-a51f43e49b6b",
   "metadata": {},
   "outputs": [],
   "source": [
    "from langchain_community.utilities import BingSearchAPIWrapper"
   ]
  },
  {
   "cell_type": "code",
   "execution_count": 97,
   "id": "aa241f0d-4da7-4ac7-87b2-02b41ed05820",
   "metadata": {},
   "outputs": [
    {
     "data": {
      "text/plain": [
       "True"
      ]
     },
     "execution_count": 97,
     "metadata": {},
     "output_type": "execute_result"
    }
   ],
   "source": [
    "# load env and vriables\n",
    "load_dotenv()\n"
   ]
  },
  {
   "cell_type": "code",
   "execution_count": 98,
   "id": "6a1411b7-6710-46c0-a03b-8a56ad73bee2",
   "metadata": {},
   "outputs": [],
   "source": [
    "search = BingSearchAPIWrapper()"
   ]
  },
  {
   "cell_type": "code",
   "execution_count": 99,
   "id": "d9c72933-e533-46da-a5cd-0e0de9e68bf7",
   "metadata": {},
   "outputs": [],
   "source": [
    "from langchain.chains.summarize import load_summarize_chain\n",
    "from langchain.document_loaders import WebBaseLoader\n",
    "from langchain.text_splitter import RecursiveCharacterTextSplitter\n",
    "import requests\n",
    "from pydantic import BaseModel, Field\n",
    "from langchain_openai import ChatOpenAI"
   ]
  },
  {
   "cell_type": "code",
   "execution_count": 100,
   "id": "94275c90-bac6-45fc-9432-9abe87fe5591",
   "metadata": {},
   "outputs": [],
   "source": [
    "#gent tool"
   ]
  },
  {
   "cell_type": "code",
   "execution_count": 101,
   "id": "c934b391-2c8e-41ea-909c-1276abecdfc1",
   "metadata": {},
   "outputs": [],
   "source": [
    "extraction_template = PromptTemplate(\n",
    "    input_variables=[\"content\", \"person_name\"],\n",
    "    template=\"\"\"\n",
    "    Your task is to extract the following information about {person_name} from the {content}.\n",
    "    Extracted information should be:\n",
    "    - Name\n",
    "    - Location\n",
    "    - Occupation\n",
    "    - General Info about the {person_name}\n",
    "    \n",
    "    Also extraxt name and infomration about persons , companies related to the {person_name} from the {content}\n",
    "    \"\"\"\n",
    ")\n",
    "\n",
    "summary_template = PromptTemplate(\n",
    "    input_variables=[\"information_list\", \"person_name\"],\n",
    "    template=\"\"\"\n",
    "    Based on the following extracted information about {person_name}, provide a summary and conclusion:\n",
    "\n",
    "    Information: {information_list}\n",
    "\n",
    "    Summary and Conclusion:\n",
    "    \"\"\"\n",
    ")"
   ]
  },
  {
   "cell_type": "code",
   "execution_count": 102,
   "id": "20b763eb-320e-4535-96b9-97e91a910352",
   "metadata": {},
   "outputs": [],
   "source": [
    "#chains definition"
   ]
  },
  {
   "cell_type": "code",
   "execution_count": 103,
   "id": "7f81330c-bc9f-472c-975c-0892c06848a0",
   "metadata": {},
   "outputs": [],
   "source": [
    "extraction_chain = LLMChain(llm=llm, prompt=extraction_template)\n",
    "summary_chain = LLMChain(llm=llm, prompt=summary_template)"
   ]
  },
  {
   "cell_type": "code",
   "execution_count": 104,
   "id": "06e0579f-5ac0-43c1-bc29-fd85b17d4398",
   "metadata": {},
   "outputs": [],
   "source": [
    "# bing model"
   ]
  },
  {
   "cell_type": "code",
   "execution_count": 105,
   "id": "92e7f7de-1325-4a83-bd1f-46cf7aa7f273",
   "metadata": {},
   "outputs": [],
   "source": [
    "class BingResult(BaseModel):\n",
    "    title: str\n",
    "    link: str\n",
    "    \n",
    "class BingResults(BaseModel):\n",
    "    results: list[BingResult]\n",
    "\n",
    "    def links(self):\n",
    "        return [result.link for result in self.results]"
   ]
  },
  {
   "cell_type": "code",
   "execution_count": 106,
   "id": "5d5326bd-8bc7-48d3-af7b-11023d8d56ad",
   "metadata": {},
   "outputs": [],
   "source": [
    "def load_documents(loader_clc, urls):\n",
    "    loader = loader_clc(urls)\n",
    "    return loader.load()\n",
    "\n",
    "def serch_bing(query, n_results):\n",
    "    return BingResults(results=search.results(query, n_results))"
   ]
  },
  {
   "cell_type": "code",
   "execution_count": 107,
   "id": "186e6c75-165f-432a-9712-1cb2b78efb14",
   "metadata": {},
   "outputs": [],
   "source": [
    "# Function to extract information\n",
    "def extract_information(chunk, person_name):\n",
    "    return extraction_chain.run({\"content\": chunk.page_content, \"person_name\": person_name})\n",
    "\n",
    "# Function to summarize information\n",
    "def summarize_information(information_list, person_name):\n",
    "    return summary_chain.run({\"information_list\": information_list, \"person_name\": person_name})"
   ]
  },
  {
   "cell_type": "code",
   "execution_count": 108,
   "id": "61e9e297-0b1a-4f9f-8bfe-b7fa75aec999",
   "metadata": {
    "scrolled": true
   },
   "outputs": [],
   "source": [
    "def get_info(person_name, n_results):\n",
    "    #get results\n",
    "    results = serch_bing(person_name, n_results)\n",
    "    documents = load_documents(WebBaseLoader, results.links())\n",
    "    # spliting text into the chunks\n",
    "    text_splitter = RecursiveCharacterTextSplitter(chunk_size=2000, chunk_overlap=200)\n",
    "    chunks = text_splitter.split_documents(documents)\n",
    "    \n",
    "    # Extract information from each chunk\n",
    "    extracted_information = [extract_information(chunk, person_name) for chunk in chunks]\n",
    "    \n",
    "    # Combine extracted information into a single string\n",
    "    information_list = \"\\n\".join(extracted_information)\n",
    "    \n",
    "    # Generate summary\n",
    "    summary_result = summarize_information(information_list, person_name)\n",
    "    \n",
    "    print(\"Summary and Conclusion:\")\n",
    "    print(summary_result)"
   ]
  },
  {
   "cell_type": "code",
   "execution_count": 109,
   "id": "858390ff-8d20-4755-8ddc-ecbc83266d86",
   "metadata": {},
   "outputs": [
    {
     "name": "stdout",
     "output_type": "stream",
     "text": [
      "Summary and Conclusion:\n",
      "### Summary and Conclusion\n",
      "\n",
      "Based on the extracted information, here is a comprehensive summary of Dimitry Sytyi and related entities:\n",
      "\n",
      "### Summary\n",
      "\n",
      "#### Dimitry Sytyi\n",
      "- **Name:** Dimitry Sytyi\n",
      "- **Location:** Bangui, Central African Republic (CAR)\n",
      "- **Occupation:** Leader at Wagner Group in Bangui\n",
      "- **General Info:**\n",
      "  - Dimitry Sytyi has risen to a prominent leadership position within the Wagner Group in Bangui, Central African Republic.\n",
      "  - He is associated with the group's 'civilian activities' and holds significant influence in both business and security domains.\n",
      "  - Despite facing challenges, such as the death of his mentor Yevgeny Prigozhin, Sytyi continues to maintain his role and influence within the organization.\n",
      "\n",
      "#### Related Persons and Entities\n",
      "\n",
      "1. **Yevgeny Prigozhin**\n",
      "   - **Role:** Founder of the Wagner Group\n",
      "   - **Relation to Sytyi:** Mentor and significant figure in Sytyi's rise within Wagner\n",
      "   - **General Info:** Known for his close ties to Russian President Vladimir Putin and involvement in various mercenary and disinformation activities.\n",
      "\n",
      "2. **Valery Zakharov**\n",
      "   - **Role:** Adviser to the President of the Central African Republic\n",
      "   - **Relation to Sytyi:** Associated with Wagner Group operations in CAR\n",
      "   - **General Info:** An ex-Russian intelligence officer, currently under international sanctions.\n",
      "\n",
      "3. **Vitali Perfilev**\n",
      "   - **Role:** Leader of military maneuvers of the Wagner Group\n",
      "   - **Relation to Sytyi:** Likely collaborator within Wagner operations in CAR\n",
      "   - **General Info:** Responsible for overseeing mercenaries in the Central African Republic.\n",
      "\n",
      "4. **Christopher Lamora**\n",
      "   - **Role:** US Ambassador to the Central African Republic\n",
      "   - **General Info:** Known for his human rights work and close ties to the Democratic Party.\n",
      "\n",
      "5. **Faustin-Archange Touadéra**\n",
      "   - **Role:** President of the Central African Republic\n",
      "   - **Relation to Sytyi:** Political figure under whose administration Wagner operates\n",
      "   - **General Info:** Engaged in discussions with international leaders to restore bilateral relations.\n",
      "\n",
      "6. **Évariste Ngamana**\n",
      "   - **Role:** First Deputy Speaker of Parliament in CAR\n",
      "   - **General Info:** Known as the president's favorite fixer with a network of supportive MPs. Collaborates with Russians and Rwandans to strengthen ties within CEMAC.\n",
      "\n",
      "7. **Wagner Group**\n",
      "   - **General Info:** A Russian paramilitary organization involved in military, political, and business operations in various regions, including the Central African Republic. Competes with US private military companies like Bancroft.\n",
      "\n",
      "### Conclusion\n",
      "\n",
      "Dimitry Sytyi is a key figure within the Wagner Group, holding a significant leadership role in Bangui, Central African Republic. His position within Wagner places him at the center of various military and civilian operations in the region. Sytyi's rise to power, despite the challenges faced by his mentor Yevgeny Prigozhin, highlights his resilience and strategic importance to the organization.\n",
      "\n",
      "The Wagner Group, under the influence of individuals like Sytyi, continues to play a critical role in the Central African Republic, both in terms of security and political influence. The involvement of international figures such as US Ambassador Christopher Lamora and President Faustin-Archange Touadéra underscores the complex geopolitical dynamics at play.\n",
      "\n",
      "This summary encapsulates the key details about Dimitry Sytyi and his network, providing a clear picture of his role and the broader context within which he operates.\n"
     ]
    }
   ],
   "source": [
    "get_info(\"Dimitry Sytyi\", 5)"
   ]
  },
  {
   "cell_type": "code",
   "execution_count": null,
   "id": "a6bf3d05-a6f3-487d-951f-88e2bae16786",
   "metadata": {},
   "outputs": [],
   "source": []
  }
 ],
 "metadata": {
  "kernelspec": {
   "display_name": "Python 3 (ipykernel)",
   "language": "python",
   "name": "python3"
  },
  "language_info": {
   "codemirror_mode": {
    "name": "ipython",
    "version": 3
   },
   "file_extension": ".py",
   "mimetype": "text/x-python",
   "name": "python",
   "nbconvert_exporter": "python",
   "pygments_lexer": "ipython3",
   "version": "3.12.2"
  }
 },
 "nbformat": 4,
 "nbformat_minor": 5
}
