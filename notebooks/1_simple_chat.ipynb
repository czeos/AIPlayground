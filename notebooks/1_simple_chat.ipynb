{
 "cells": [
  {
   "cell_type": "code",
   "execution_count": 2,
   "id": "4013c657-1d2e-4e07-af76-edd8eacc9c06",
   "metadata": {},
   "outputs": [],
   "source": [
    "#Import of the packages"
   ]
  },
  {
   "cell_type": "code",
   "execution_count": 11,
   "id": "f9952eb4-d135-4a0c-8bad-d51be14c445d",
   "metadata": {},
   "outputs": [],
   "source": [
    "import os\n",
    "from pathlib import Path\n",
    "from dotenv import load_dotenv\n",
    "from langchain_openai import ChatOpenAI"
   ]
  },
  {
   "cell_type": "code",
   "execution_count": 12,
   "id": "17da5816-1eb1-422e-ad86-ee5044d3068a",
   "metadata": {},
   "outputs": [],
   "source": [
    "# load env and vriables\n",
    "load_dotenv()\n",
    "OPENAI_API_KEY = os.environ.get(\"OPENAI_API_KEY\")"
   ]
  },
  {
   "cell_type": "code",
   "execution_count": 13,
   "id": "c6660fe0-4403-416e-a6c2-c46b12fa91c2",
   "metadata": {},
   "outputs": [],
   "source": [
    "# set openai model and  llm"
   ]
  },
  {
   "cell_type": "code",
   "execution_count": 14,
   "id": "aa26a103-2f57-4061-87b9-cf7437fe0660",
   "metadata": {},
   "outputs": [],
   "source": [
    "def ask_model(model_name, question):\n",
    "    llm = ChatOpenAI(openai_api_key=OPENAI_API_KEY, model_name=model_name, temperature=0.7)\n",
    "    answer = llm.invoke(question)\n",
    "    print(answer)"
   ]
  },
  {
   "cell_type": "code",
   "execution_count": 15,
   "id": "1261b188-f050-4dc1-90de-057001a4d2a3",
   "metadata": {},
   "outputs": [],
   "source": [
    "# simple quesstion"
   ]
  },
  {
   "cell_type": "code",
   "execution_count": 16,
   "id": "8454caaf-86c4-4222-b32f-3ff25663231a",
   "metadata": {},
   "outputs": [],
   "source": [
    "question = \"Who is Dimitry Sytyi\""
   ]
  },
  {
   "cell_type": "code",
   "execution_count": 17,
   "id": "715ab899-0283-411e-b007-d813d7b2bdb9",
   "metadata": {},
   "outputs": [
    {
     "name": "stdout",
     "output_type": "stream",
     "text": [
      "content='There is limited information available about Dimitry Sytyi. It is possible that he is a private individual or not widely known public figure.' response_metadata={'token_usage': {'completion_tokens': 28, 'prompt_tokens': 14, 'total_tokens': 42}, 'model_name': 'gpt-3.5-turbo', 'system_fingerprint': None, 'finish_reason': 'stop', 'logprobs': None} id='run-6de3b9f5-6582-40ed-8da5-8b7b6352f63f-0' usage_metadata={'input_tokens': 14, 'output_tokens': 28, 'total_tokens': 42}\n"
     ]
    }
   ],
   "source": [
    "ask_model(\"gpt-3.5-turbo\", question)"
   ]
  },
  {
   "cell_type": "code",
   "execution_count": 18,
   "id": "6eeff311-80fd-4275-bbc5-4d66d93f4942",
   "metadata": {},
   "outputs": [
    {
     "name": "stdout",
     "output_type": "stream",
     "text": [
      "content='As of my last knowledge update in September 2021, there is no widely recognized public figure named Dimitry Sytyi. It is possible that he might be a private individual or a lesser-known figure in a specific field such as academia, business, or another sector. If you have more context or details about him, I may be able to help you better. Alternatively, he might have gained prominence after my last update, so I recommend checking the most current sources for the most accurate information.' response_metadata={'token_usage': {'completion_tokens': 100, 'prompt_tokens': 14, 'total_tokens': 114}, 'model_name': 'gpt-4-turbo', 'system_fingerprint': 'fp_31a6c0accf', 'finish_reason': 'stop', 'logprobs': None} id='run-d5c52079-3393-4010-a2b3-42f171492e32-0' usage_metadata={'input_tokens': 14, 'output_tokens': 100, 'total_tokens': 114}\n"
     ]
    }
   ],
   "source": [
    "ask_model(\"gpt-4-turbo\", question)"
   ]
  },
  {
   "cell_type": "code",
   "execution_count": 19,
   "id": "551f9e12-9814-46a9-8481-e81a17eb1b02",
   "metadata": {},
   "outputs": [
    {
     "name": "stdout",
     "output_type": "stream",
     "text": [
      "content=\"As of my last update in October 2023, there is no widely known public figure or notable individual named Dimitry Sytyi. It's possible that he could be a private individual or a lesser-known figure who hasn't gained significant media attention or public recognition. If you have specific context or details about Dimitry Sytyi, please provide more information so I can assist you better.\" response_metadata={'token_usage': {'completion_tokens': 77, 'prompt_tokens': 14, 'total_tokens': 91}, 'model_name': 'gpt-4o', 'system_fingerprint': 'fp_f4e629d0a5', 'finish_reason': 'stop', 'logprobs': None} id='run-c879ae20-54d4-4ab1-a30b-8237c936a5d4-0' usage_metadata={'input_tokens': 14, 'output_tokens': 77, 'total_tokens': 91}\n"
     ]
    }
   ],
   "source": [
    "ask_model(\"gpt-4o\", question)"
   ]
  },
  {
   "cell_type": "code",
   "execution_count": null,
   "id": "4b512a5c-d26f-46fa-bebb-25cd70c4e828",
   "metadata": {},
   "outputs": [],
   "source": []
  }
 ],
 "metadata": {
  "kernelspec": {
   "display_name": "Python 3 (ipykernel)",
   "language": "python",
   "name": "python3"
  },
  "language_info": {
   "codemirror_mode": {
    "name": "ipython",
    "version": 3
   },
   "file_extension": ".py",
   "mimetype": "text/x-python",
   "name": "python",
   "nbconvert_exporter": "python",
   "pygments_lexer": "ipython3",
   "version": "3.12.2"
  }
 },
 "nbformat": 4,
 "nbformat_minor": 5
}
