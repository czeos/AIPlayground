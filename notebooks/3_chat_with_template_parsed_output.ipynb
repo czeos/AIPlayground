{
 "cells": [
  {
   "cell_type": "code",
   "execution_count": 63,
   "id": "c8c9efdb-ca16-49ca-846b-e1c4e91daed2",
   "metadata": {},
   "outputs": [],
   "source": [
    "# simple code for parsed output"
   ]
  },
  {
   "cell_type": "code",
   "execution_count": 64,
   "id": "cefec422-5589-4629-b815-1275f0eba796",
   "metadata": {},
   "outputs": [],
   "source": [
    "# Import of the packages"
   ]
  },
  {
   "cell_type": "code",
   "execution_count": 1,
   "id": "f9952eb4-d135-4a0c-8bad-d51be14c445d",
   "metadata": {},
   "outputs": [],
   "source": [
    "import os\n",
    "from pathlib import Path\n",
    "from dotenv import load_dotenv\n",
    "from pydantic import BaseModel, Field"
   ]
  },
  {
   "cell_type": "code",
   "execution_count": 2,
   "id": "670ff395-7fcb-4293-8217-9d5f6fc0538e",
   "metadata": {},
   "outputs": [],
   "source": [
    "#aded prompts for templates\n",
    "from langchain_openai import ChatOpenAI\n",
    "from langchain.prompts.chat import ChatPromptTemplate, HumanMessagePromptTemplate"
   ]
  },
  {
   "cell_type": "code",
   "execution_count": 3,
   "id": "2e6bae60-3203-4dbe-a6f0-b72f17f5c093",
   "metadata": {},
   "outputs": [],
   "source": [
    "# add parsers"
   ]
  },
  {
   "cell_type": "code",
   "execution_count": 4,
   "id": "2bdcb4c0-d60a-4375-add5-d4a59fe5b6ff",
   "metadata": {},
   "outputs": [],
   "source": [
    "from langchain.output_parsers import PydanticOutputParser"
   ]
  },
  {
   "cell_type": "code",
   "execution_count": 5,
   "id": "17da5816-1eb1-422e-ad86-ee5044d3068a",
   "metadata": {},
   "outputs": [],
   "source": [
    "# load env and vriables\n",
    "load_dotenv()\n",
    "OPENAI_API_KEY = os.environ.get(\"OPENAI_API_KEY\")"
   ]
  },
  {
   "cell_type": "code",
   "execution_count": 6,
   "id": "ce250bc1-6fd1-454b-8045-6eb47706456e",
   "metadata": {},
   "outputs": [],
   "source": [
    "# main function"
   ]
  },
  {
   "cell_type": "code",
   "execution_count": 7,
   "id": "16bfd11a-1a74-4661-a6ad-1c3b5f7e5de8",
   "metadata": {},
   "outputs": [],
   "source": [
    "def ask_chat(model_name, template, variables, parser):\n",
    "    llm = ChatOpenAI(openai_api_key=OPENAI_API_KEY, model_name=model_name, temperature=0.7)\n",
    "    message = HumanMessagePromptTemplate.from_template(template=template)\n",
    "    prompt = ChatPromptTemplate.from_messages(messages=[message])\n",
    "    # Formatting the prompt with the given variables\n",
    "    prompt_with_values = prompt.format_prompt(**variables) \n",
    "    # creation of messge\n",
    "    messages = prompt_with_values.to_messages()\n",
    "    answer = llm(messages)\n",
    "    output = parser.parse(answer.content)\n",
    "    \n",
    "    return output"
   ]
  },
  {
   "cell_type": "code",
   "execution_count": 8,
   "id": "c6660fe0-4403-416e-a6c2-c46b12fa91c2",
   "metadata": {},
   "outputs": [],
   "source": [
    "# create template"
   ]
  },
  {
   "cell_type": "code",
   "execution_count": 9,
   "id": "aa26a103-2f57-4061-87b9-cf7437fe0660",
   "metadata": {},
   "outputs": [],
   "source": [
    "PROMPT_TEMPLATE = \"\"\"\n",
    "    Provide information availible about {person}.\n",
    "    {output_format}\n",
    "    \"\"\""
   ]
  },
  {
   "cell_type": "code",
   "execution_count": 10,
   "id": "494002ce-e555-427d-b692-88935cbc127b",
   "metadata": {},
   "outputs": [],
   "source": [
    "#create output report"
   ]
  },
  {
   "cell_type": "code",
   "execution_count": 11,
   "id": "a2e027e8-9947-4cbd-9f59-a89ac6dc7733",
   "metadata": {},
   "outputs": [],
   "source": [
    "class OuputReport(BaseModel):\n",
    "    person: str = Field(description=\"name of the person\")\n",
    "    nationality: str = Field(description=\"nationality of the person if it is known\")\n",
    "    occupation: str = Field(description=\"occupation of the person if it is known\")\n",
    "    informations: str = Field(description=\"all other information that is known\")\n",
    "\n",
    "    def __str__(self):\n",
    "        msgs = [f\"{k}: \\t {v}\" for k,v in self.__dict__.items()]\n",
    "        return '\\n'.join(msgs)\n",
    "      "
   ]
  },
  {
   "cell_type": "code",
   "execution_count": 12,
   "id": "6811ba17-8610-473d-bd61-d0615555d811",
   "metadata": {},
   "outputs": [],
   "source": [
    "# creation of the parser"
   ]
  },
  {
   "cell_type": "code",
   "execution_count": 13,
   "id": "b90892f0-8d27-4619-b05f-fa513c348d35",
   "metadata": {},
   "outputs": [],
   "source": [
    "parser = PydanticOutputParser(pydantic_object=OuputReport)"
   ]
  },
  {
   "cell_type": "code",
   "execution_count": 14,
   "id": "8454caaf-86c4-4222-b32f-3ff25663231a",
   "metadata": {},
   "outputs": [],
   "source": [
    "variables = {\"person\": \"Dimitry Sytyi\",\n",
    "            \"output_format\": parser.get_format_instructions()}"
   ]
  },
  {
   "cell_type": "code",
   "execution_count": 15,
   "id": "715ab899-0283-411e-b007-d813d7b2bdb9",
   "metadata": {
    "scrolled": true
   },
   "outputs": [
    {
     "name": "stderr",
     "output_type": "stream",
     "text": [
      "C:\\Users\\micha\\PycharmProjects\\AIPlayground\\.venv\\Lib\\site-packages\\langchain_core\\_api\\deprecation.py:139: LangChainDeprecationWarning: The method `BaseChatModel.__call__` was deprecated in langchain-core 0.1.7 and will be removed in 0.3.0. Use invoke instead.\n",
      "  warn_deprecated(\n"
     ]
    }
   ],
   "source": [
    "answer =  ask_chat(model_name=\"gpt-4o\",  template=PROMPT_TEMPLATE, variables=variables, parser=parser)"
   ]
  },
  {
   "cell_type": "code",
   "execution_count": 16,
   "id": "4de405c2-228e-478c-a600-ad895a06f23b",
   "metadata": {},
   "outputs": [
    {
     "name": "stdout",
     "output_type": "stream",
     "text": [
      "person: \t Dimitry Sytyi\n",
      "nationality: \t Russian\n",
      "occupation: \t Businessman\n",
      "informations: \t Dimitry Sytyi is known to be associated with the Wagner Group, a Russian private military company. He manages operations in the Central African Republic. Sytyi was reportedly injured in a bomb attack in December 2022.\n"
     ]
    }
   ],
   "source": [
    "print(answer)"
   ]
  },
  {
   "cell_type": "code",
   "execution_count": null,
   "id": "fcb052d0-c04c-4753-849b-111b3945d960",
   "metadata": {},
   "outputs": [],
   "source": []
  }
 ],
 "metadata": {
  "kernelspec": {
   "display_name": "Python 3 (ipykernel)",
   "language": "python",
   "name": "python3"
  },
  "language_info": {
   "codemirror_mode": {
    "name": "ipython",
    "version": 3
   },
   "file_extension": ".py",
   "mimetype": "text/x-python",
   "name": "python",
   "nbconvert_exporter": "python",
   "pygments_lexer": "ipython3",
   "version": "3.12.2"
  }
 },
 "nbformat": 4,
 "nbformat_minor": 5
}
