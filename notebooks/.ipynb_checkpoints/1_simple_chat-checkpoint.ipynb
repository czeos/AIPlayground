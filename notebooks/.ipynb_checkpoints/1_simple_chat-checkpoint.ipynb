{
 "cells": [
  {
   "cell_type": "markdown",
   "id": "c8ab3ef9-7699-41b6-b350-9b52605632f8",
   "metadata": {},
   "source": [
    "# Import of the packages"
   ]
  },
  {
   "cell_type": "code",
   "execution_count": 20,
   "id": "f9952eb4-d135-4a0c-8bad-d51be14c445d",
   "metadata": {},
   "outputs": [],
   "source": [
    "import os\n",
    "from pathlib import Path\n",
    "from dotenv import load_dotenv\n",
    "from langchain_openai import ChatOpenAI"
   ]
  },
  {
   "cell_type": "code",
   "execution_count": 18,
   "id": "17da5816-1eb1-422e-ad86-ee5044d3068a",
   "metadata": {},
   "outputs": [],
   "source": [
    "# load env and vriables\n",
    "load_dotenv()\n",
    "OPENAI_API_KEY = os.environ.get(\"OPENAI_API_KEY\")"
   ]
  },
  {
   "cell_type": "code",
   "execution_count": 21,
   "id": "c6660fe0-4403-416e-a6c2-c46b12fa91c2",
   "metadata": {},
   "outputs": [],
   "source": [
    "# set openai model and  llm"
   ]
  },
  {
   "cell_type": "code",
   "execution_count": 37,
   "id": "aa26a103-2f57-4061-87b9-cf7437fe0660",
   "metadata": {},
   "outputs": [],
   "source": [
    "def ask_model(model_name, question):\n",
    "    llm = ChatOpenAI(openai_api_key=OPENAI_API_KEY, model_name=model_name, temperature=0.7)\n",
    "    answer = llm.invoke(question)\n",
    "    print(answer)"
   ]
  },
  {
   "cell_type": "code",
   "execution_count": 33,
   "id": "1261b188-f050-4dc1-90de-057001a4d2a3",
   "metadata": {},
   "outputs": [],
   "source": [
    "# simple quesstion"
   ]
  },
  {
   "cell_type": "code",
   "execution_count": 34,
   "id": "8454caaf-86c4-4222-b32f-3ff25663231a",
   "metadata": {},
   "outputs": [],
   "source": [
    "question = \"Who is Dimitry Sytyi\""
   ]
  },
  {
   "cell_type": "code",
   "execution_count": 38,
   "id": "715ab899-0283-411e-b007-d813d7b2bdb9",
   "metadata": {},
   "outputs": [
    {
     "name": "stdout",
     "output_type": "stream",
     "text": [
      "content='There is no publicly known person named Dimitry Sytyi. It is possible that this person may be a private individual or not well-known in public records.' response_metadata={'token_usage': {'completion_tokens': 32, 'prompt_tokens': 14, 'total_tokens': 46}, 'model_name': 'gpt-3.5-turbo', 'system_fingerprint': None, 'finish_reason': 'stop', 'logprobs': None} id='run-69d7a094-4a94-4c95-95e1-e1e2224c675c-0' usage_metadata={'input_tokens': 14, 'output_tokens': 32, 'total_tokens': 46}\n"
     ]
    }
   ],
   "source": [
    "ask_model(\"gpt-3.5-turbo\", question)"
   ]
  },
  {
   "cell_type": "code",
   "execution_count": 39,
   "id": "6eeff311-80fd-4275-bbc5-4d66d93f4942",
   "metadata": {},
   "outputs": [
    {
     "name": "stdout",
     "output_type": "stream",
     "text": [
      "content=\"As of my last update in September 2021, there is no widely recognized public figure named Dimitry Sytyi. It is possible that the name could be associated with a private individual or a lesser-known figure not extensively covered in internationally recognized sources. If you are referring to someone specific who might be emerging in prominence or from a particular niche or local context, I would recommend checking the most current and reliable sources for the most up-to-date information. If you have more context or details, I'd be happy to help further with more specific information.\" response_metadata={'token_usage': {'completion_tokens': 111, 'prompt_tokens': 14, 'total_tokens': 125}, 'model_name': 'gpt-4-turbo', 'system_fingerprint': 'fp_9d7f5c6195', 'finish_reason': 'stop', 'logprobs': None} id='run-72fc54cd-3b13-407a-ad0d-2e13138b63fd-0' usage_metadata={'input_tokens': 14, 'output_tokens': 111, 'total_tokens': 125}\n"
     ]
    }
   ],
   "source": [
    "ask_model(\"gpt-4-turbo\", question)"
   ]
  },
  {
   "cell_type": "code",
   "execution_count": 40,
   "id": "551f9e12-9814-46a9-8481-e81a17eb1b02",
   "metadata": {},
   "outputs": [
    {
     "name": "stdout",
     "output_type": "stream",
     "text": [
      "content=\"As of my last update in October 2023, Dimitry Sytyi does not appear to be a widely recognized public figure in global news, politics, or popular culture. It's possible that he may be known in more localized or specific contexts that haven't reached broader international awareness.\\n\\nIf you have more specific information or context about Dimitry Sytyi—such as his profession, nationality, or the field in which he's involved—I might be able to provide a more detailed response. Otherwise, it's also possible that he has gained prominence in a very recent event that hasn't been widely documented yet.\" response_metadata={'token_usage': {'completion_tokens': 118, 'prompt_tokens': 14, 'total_tokens': 132}, 'model_name': 'gpt-4o', 'system_fingerprint': 'fp_319be4768e', 'finish_reason': 'stop', 'logprobs': None} id='run-0a133e11-5a15-400d-a535-6c16333ac1dd-0' usage_metadata={'input_tokens': 14, 'output_tokens': 118, 'total_tokens': 132}\n"
     ]
    }
   ],
   "source": [
    "ask_model(\"gpt-4o\", question)"
   ]
  },
  {
   "cell_type": "code",
   "execution_count": null,
   "id": "4b512a5c-d26f-46fa-bebb-25cd70c4e828",
   "metadata": {},
   "outputs": [],
   "source": []
  }
 ],
 "metadata": {
  "kernelspec": {
   "display_name": "Python 3 (ipykernel)",
   "language": "python",
   "name": "python3"
  },
  "language_info": {
   "codemirror_mode": {
    "name": "ipython",
    "version": 3
   },
   "file_extension": ".py",
   "mimetype": "text/x-python",
   "name": "python",
   "nbconvert_exporter": "python",
   "pygments_lexer": "ipython3",
   "version": "3.12.2"
  }
 },
 "nbformat": 4,
 "nbformat_minor": 5
}
