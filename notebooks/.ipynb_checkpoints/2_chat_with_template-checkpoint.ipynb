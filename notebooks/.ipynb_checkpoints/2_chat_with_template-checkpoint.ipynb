{
 "cells": [
  {
   "cell_type": "code",
   "execution_count": 95,
   "id": "c8c9efdb-ca16-49ca-846b-e1c4e91daed2",
   "metadata": {},
   "outputs": [],
   "source": [
    "# simple code for chat with template"
   ]
  },
  {
   "cell_type": "code",
   "execution_count": 96,
   "id": "cefec422-5589-4629-b815-1275f0eba796",
   "metadata": {},
   "outputs": [],
   "source": [
    "# Import of the packages"
   ]
  },
  {
   "cell_type": "code",
   "execution_count": 97,
   "id": "f9952eb4-d135-4a0c-8bad-d51be14c445d",
   "metadata": {},
   "outputs": [],
   "source": [
    "import os\n",
    "from pathlib import Path\n",
    "from dotenv import load_dotenv\n"
   ]
  },
  {
   "cell_type": "code",
   "execution_count": 98,
   "id": "670ff395-7fcb-4293-8217-9d5f6fc0538e",
   "metadata": {},
   "outputs": [],
   "source": [
    "#aded prompts for templates\n",
    "from langchain_openai import ChatOpenAI\n",
    "from langchain.prompts.chat import ChatPromptTemplate, HumanMessagePromptTemplate"
   ]
  },
  {
   "cell_type": "code",
   "execution_count": 99,
   "id": "17da5816-1eb1-422e-ad86-ee5044d3068a",
   "metadata": {},
   "outputs": [],
   "source": [
    "# load env and vriables\n",
    "load_dotenv()\n",
    "OPENAI_API_KEY = os.environ.get(\"OPENAI_API_KEY\")"
   ]
  },
  {
   "cell_type": "code",
   "execution_count": 100,
   "id": "ce250bc1-6fd1-454b-8045-6eb47706456e",
   "metadata": {},
   "outputs": [],
   "source": [
    "# main function"
   ]
  },
  {
   "cell_type": "code",
   "execution_count": 101,
   "id": "16bfd11a-1a74-4661-a6ad-1c3b5f7e5de8",
   "metadata": {},
   "outputs": [],
   "source": [
    "def ask_chat(model_name, template, variables):\n",
    "    llm = ChatOpenAI(openai_api_key=OPENAI_API_KEY, model_name=model_name, temperature=0.7)\n",
    "    message = HumanMessagePromptTemplate.from_template(template=template)\n",
    "    prompt = ChatPromptTemplate.from_messages(messages=[message])\n",
    "    # Formatting the prompt with the given variables\n",
    "    prompt_with_values = prompt.format_prompt(**variables)\n",
    "    # creation of messge\n",
    "    messages = prompt_with_values.to_messages()\n",
    "    answer = llm(messages)\n",
    "    print(answer)"
   ]
  },
  {
   "cell_type": "code",
   "execution_count": 102,
   "id": "c6660fe0-4403-416e-a6c2-c46b12fa91c2",
   "metadata": {},
   "outputs": [],
   "source": [
    "# create template"
   ]
  },
  {
   "cell_type": "code",
   "execution_count": 103,
   "id": "aa26a103-2f57-4061-87b9-cf7437fe0660",
   "metadata": {},
   "outputs": [],
   "source": [
    "PROMPT_TEMPLATE = \"\"\"\n",
    "    Provide information availible about {person}.  \n",
    "    \"\"\""
   ]
  },
  {
   "cell_type": "code",
   "execution_count": 104,
   "id": "8454caaf-86c4-4222-b32f-3ff25663231a",
   "metadata": {},
   "outputs": [],
   "source": [
    "variables = {\"person\": \"Dimitry Sytyi\"}"
   ]
  },
  {
   "cell_type": "code",
   "execution_count": 105,
   "id": "715ab899-0283-411e-b007-d813d7b2bdb9",
   "metadata": {
    "scrolled": true
   },
   "outputs": [
    {
     "name": "stdout",
     "output_type": "stream",
     "text": [
      "content=\"As of my last update in October 2023, there isn't much widely available information about Dimitry Sytyi. If he is a public figure, recent events, or news developments may have brought him to prominence. For the most current and detailed information, it would be best to consult recent news articles, official statements, or other up-to-date sources. If you can provide more context or specify the field or context in which Dimitry Sytyi is relevant, I may be able to offer more targeted information.\" response_metadata={'token_usage': {'completion_tokens': 104, 'prompt_tokens': 22, 'total_tokens': 126}, 'model_name': 'gpt-4o', 'system_fingerprint': 'fp_aa87380ac5', 'finish_reason': 'stop', 'logprobs': None} id='run-592c791a-198a-4de7-b144-de55486aeb25-0' usage_metadata={'input_tokens': 22, 'output_tokens': 104, 'total_tokens': 126}\n"
     ]
    }
   ],
   "source": [
    "ask_chat(model_name=\"gpt-4o\",  template=PROMPT_TEMPLATE, variables=variables)"
   ]
  },
  {
   "cell_type": "code",
   "execution_count": null,
   "id": "4de405c2-228e-478c-a600-ad895a06f23b",
   "metadata": {},
   "outputs": [],
   "source": []
  }
 ],
 "metadata": {
  "kernelspec": {
   "display_name": "Python 3 (ipykernel)",
   "language": "python",
   "name": "python3"
  },
  "language_info": {
   "codemirror_mode": {
    "name": "ipython",
    "version": 3
   },
   "file_extension": ".py",
   "mimetype": "text/x-python",
   "name": "python",
   "nbconvert_exporter": "python",
   "pygments_lexer": "ipython3",
   "version": "3.12.2"
  }
 },
 "nbformat": 4,
 "nbformat_minor": 5
}
