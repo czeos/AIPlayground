{
 "cells": [
  {
   "cell_type": "code",
   "execution_count": 6,
   "id": "c8c9efdb-ca16-49ca-846b-e1c4e91daed2",
   "metadata": {},
   "outputs": [],
   "source": [
    "# simple code for chat with web "
   ]
  },
  {
   "cell_type": "code",
   "execution_count": 7,
   "id": "cefec422-5589-4629-b815-1275f0eba796",
   "metadata": {},
   "outputs": [],
   "source": [
    "# Import of the packages"
   ]
  },
  {
   "cell_type": "code",
   "execution_count": 23,
   "id": "f9952eb4-d135-4a0c-8bad-d51be14c445d",
   "metadata": {},
   "outputs": [],
   "source": [
    "import os\n",
    "from pathlib import Path\n",
    "from dotenv import load_dotenv\n",
    "from pydantic import BaseModel, Field\n",
    "from typing import List"
   ]
  },
  {
   "cell_type": "code",
   "execution_count": 24,
   "id": "670ff395-7fcb-4293-8217-9d5f6fc0538e",
   "metadata": {},
   "outputs": [],
   "source": [
    "#aded prompts for templates\n",
    "from langchain_openai import ChatOpenAI\n",
    "from langchain.prompts.chat import ChatPromptTemplate, HumanMessagePromptTemplate"
   ]
  },
  {
   "cell_type": "code",
   "execution_count": 25,
   "id": "d39e046e-762a-43a3-a5de-6f00187c3193",
   "metadata": {},
   "outputs": [],
   "source": [
    "# aded acces to the web via langchinabs"
   ]
  },
  {
   "cell_type": "code",
   "execution_count": 26,
   "id": "25e72474-b3cf-47ea-b957-c3ad77fa9beb",
   "metadata": {},
   "outputs": [],
   "source": [
    "from langchain_community.document_loaders import WebBaseLoader"
   ]
  },
  {
   "cell_type": "code",
   "execution_count": 27,
   "id": "2e6bae60-3203-4dbe-a6f0-b72f17f5c093",
   "metadata": {},
   "outputs": [],
   "source": [
    "# add parsers"
   ]
  },
  {
   "cell_type": "code",
   "execution_count": 28,
   "id": "2bdcb4c0-d60a-4375-add5-d4a59fe5b6ff",
   "metadata": {},
   "outputs": [],
   "source": [
    "from langchain.output_parsers import PydanticOutputParser"
   ]
  },
  {
   "cell_type": "code",
   "execution_count": 29,
   "id": "17da5816-1eb1-422e-ad86-ee5044d3068a",
   "metadata": {},
   "outputs": [],
   "source": [
    "# load env and vriables\n",
    "load_dotenv()\n",
    "OPENAI_API_KEY = os.environ.get(\"OPENAI_API_KEY\")"
   ]
  },
  {
   "cell_type": "code",
   "execution_count": 30,
   "id": "ce250bc1-6fd1-454b-8045-6eb47706456e",
   "metadata": {},
   "outputs": [],
   "source": [
    "# main function"
   ]
  },
  {
   "cell_type": "code",
   "execution_count": 31,
   "id": "16bfd11a-1a74-4661-a6ad-1c3b5f7e5de8",
   "metadata": {},
   "outputs": [],
   "source": [
    "def ask_chat(model_name, template, variables, parser):\n",
    "    llm = ChatOpenAI(openai_api_key=OPENAI_API_KEY, model_name=model_name, temperature=0.7)\n",
    "    message = HumanMessagePromptTemplate.from_template(template=template)\n",
    "    prompt = ChatPromptTemplate.from_messages(messages=[message])\n",
    "    # Formatting the prompt with the given variables\n",
    "    prompt_with_values = prompt.format_prompt(**variables) \n",
    "    # creation of messge\n",
    "    messages = prompt_with_values.to_messages()\n",
    "    answer = llm(messages)\n",
    "    output = parser.parse(answer.content)\n",
    "    \n",
    "    return output"
   ]
  },
  {
   "cell_type": "code",
   "execution_count": 32,
   "id": "d9e99313-5718-4c7e-a40f-44caad10fb00",
   "metadata": {},
   "outputs": [],
   "source": [
    "# function for accessing the web"
   ]
  },
  {
   "cell_type": "code",
   "execution_count": 41,
   "id": "0b4754f4-f326-4294-b04b-074328f9b634",
   "metadata": {},
   "outputs": [],
   "source": [
    "def get_web_content(url):\n",
    "    loader = WebBaseLoader(url)\n",
    "    document = loader.load()\n",
    "    return document"
   ]
  },
  {
   "cell_type": "code",
   "execution_count": 42,
   "id": "c6660fe0-4403-416e-a6c2-c46b12fa91c2",
   "metadata": {},
   "outputs": [],
   "source": [
    "# create template"
   ]
  },
  {
   "cell_type": "code",
   "execution_count": 98,
   "id": "aa26a103-2f57-4061-87b9-cf7437fe0660",
   "metadata": {},
   "outputs": [],
   "source": [
    "PROMPT_TEMPLATE = \"\"\"\n",
    "    Get the information about the webpage statistics from the table from this {webpage_content}. Put them in the order\n",
    "    today, yesterday, at the average at today, at the average at yesterday. ignore number of diferences\n",
    "    {output_format}\n",
    "    \"\"\""
   ]
  },
  {
   "cell_type": "code",
   "execution_count": 99,
   "id": "494002ce-e555-427d-b692-88935cbc127b",
   "metadata": {},
   "outputs": [],
   "source": [
    "#create output report / from gpt promt for simplicity "
   ]
  },
  {
   "cell_type": "code",
   "execution_count": 100,
   "id": "a2e027e8-9947-4cbd-9f59-a89ac6dc7733",
   "metadata": {},
   "outputs": [],
   "source": [
    "class Metrics(BaseModel):\n",
    "    views: List[int] = Field(..., description=\"Number of views for each period.\")\n",
    "    sessions: List[int] = Field(..., description=\"Number of sessions for each period.\")\n",
    "    visitors: List[int] = Field(..., description=\"Number of unique visitors for each period.\")\n",
    "    hosts: List[int] = Field(..., description=\"Number of hosts for each period.\")\n",
    "    reloads: List[int] = Field(..., description=\"Number of page reloads for each period.\")\n",
    "    average_online: List[int] = Field(..., description=\"Average number of users online for each period.\")\n",
    "    average_active_online: List[int] = Field(..., description=\"Average number of active users online for each period.\")\n",
    "    average_duration: List[float] = Field(..., description=\"Average duration of sessions in minutes for each period.\")\n",
    "    views_per_visitor: List[float] = Field(..., description=\"Average number of views per visitor for each period.\")\n",
    "\n",
    "    def __str__(self):\n",
    "        msgs = [f\"{k}: \\t {v}\" for k,v in self.__dict__.items()]\n",
    "        return '\\n'.join(msgs)\n",
    "      "
   ]
  },
  {
   "cell_type": "code",
   "execution_count": 101,
   "id": "c35ddd2c-54ee-4582-99ad-8f02ca9e17b2",
   "metadata": {},
   "outputs": [],
   "source": [
    "# get content"
   ]
  },
  {
   "cell_type": "code",
   "execution_count": 102,
   "id": "043c086e-e59e-4c2a-9b76-13adbc1ed01e",
   "metadata": {},
   "outputs": [],
   "source": [
    "url = \"https://www.liveinternet.ru/stat/rg.ru/index.html\""
   ]
  },
  {
   "cell_type": "code",
   "execution_count": 103,
   "id": "0a9f3548-4125-4508-9e5c-e58603e284b6",
   "metadata": {},
   "outputs": [],
   "source": [
    "web_content = get_web_content(url)"
   ]
  },
  {
   "cell_type": "code",
   "execution_count": 104,
   "id": "82f3ed53-f1bc-4a9e-9c09-68230322dd3d",
   "metadata": {},
   "outputs": [],
   "source": [
    "content_to_summarize = \" \".join([doc.page_content for doc in web_content])"
   ]
  },
  {
   "cell_type": "code",
   "execution_count": 105,
   "id": "6811ba17-8610-473d-bd61-d0615555d811",
   "metadata": {},
   "outputs": [],
   "source": [
    "# creation of the parser"
   ]
  },
  {
   "cell_type": "code",
   "execution_count": 106,
   "id": "b90892f0-8d27-4619-b05f-fa513c348d35",
   "metadata": {},
   "outputs": [],
   "source": [
    "parser = PydanticOutputParser(pydantic_object=Metrics)"
   ]
  },
  {
   "cell_type": "code",
   "execution_count": 107,
   "id": "8454caaf-86c4-4222-b32f-3ff25663231a",
   "metadata": {},
   "outputs": [],
   "source": [
    "variables = {\"webpage_content\": content_to_summarize,\n",
    "            \"output_format\": parser.get_format_instructions()}"
   ]
  },
  {
   "cell_type": "code",
   "execution_count": 108,
   "id": "715ab899-0283-411e-b007-d813d7b2bdb9",
   "metadata": {
    "scrolled": true
   },
   "outputs": [],
   "source": [
    "answer =  ask_chat(model_name=\"gpt-4o\",  template=PROMPT_TEMPLATE, variables=variables, parser=parser)"
   ]
  },
  {
   "cell_type": "code",
   "execution_count": 109,
   "id": "4de405c2-228e-478c-a600-ad895a06f23b",
   "metadata": {},
   "outputs": [
    {
     "name": "stdout",
     "output_type": "stream",
     "text": [
      "views: \t [406, 56819, 54907, 64722]\n",
      "sessions: \t [438, 51289, 49480, 58514]\n",
      "visitors: \t [360, 49243, 47652, 56215]\n",
      "hosts: \t [374, 45215, 44012, 51085]\n",
      "reloads: \t [0, 98, 94, 93]\n",
      "average_online: \t [588, 543, 524, 620]\n",
      "average_active_online: \t [52, 46, 45, 52]\n",
      "average_duration: \t [0.46, 0.24, 0.24, 0.24]\n",
      "views_per_visitor: \t [1.1, 1.1, 1.1, 1.1]\n"
     ]
    }
   ],
   "source": [
    "print(answer)"
   ]
  },
  {
   "cell_type": "code",
   "execution_count": null,
   "id": "fcb052d0-c04c-4753-849b-111b3945d960",
   "metadata": {},
   "outputs": [],
   "source": []
  },
  {
   "cell_type": "code",
   "execution_count": null,
   "id": "9b908db7-7477-4719-a8f9-e64c54fc5b2f",
   "metadata": {},
   "outputs": [],
   "source": []
  }
 ],
 "metadata": {
  "kernelspec": {
   "display_name": "Python 3 (ipykernel)",
   "language": "python",
   "name": "python3"
  },
  "language_info": {
   "codemirror_mode": {
    "name": "ipython",
    "version": 3
   },
   "file_extension": ".py",
   "mimetype": "text/x-python",
   "name": "python",
   "nbconvert_exporter": "python",
   "pygments_lexer": "ipython3",
   "version": "3.12.2"
  }
 },
 "nbformat": 4,
 "nbformat_minor": 5
}
